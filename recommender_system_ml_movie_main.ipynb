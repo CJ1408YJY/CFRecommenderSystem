{
 "cells": [
  {
   "cell_type": "markdown",
   "metadata": {},
   "source": [
    "# Data exploration of Movie Lens 100k data sets\n",
    "Dataset: https://grouplens.org/datasets/movielens/"
   ]
  },
  {
   "cell_type": "code",
   "execution_count": 6,
   "metadata": {},
   "outputs": [],
   "source": [
    "import numpy as np\n",
    "import pandas as pd\n",
    "import seaborn as sns\n",
    "import matplotlib.pyplot as plt\n",
    "import seaborn as sns\n",
    "\n",
    "dir_path = './ml-latest-small/'\n",
    "movies_csv = dir_path + 'movies.csv'\n",
    "ratings_csv = dir_path + 'ratings.csv'\n",
    "links_csv = dir_path + 'links.csv'\n",
    "#tags_csv = dir_path + 'tags.csv'\n",
    "\n",
    "df_movie = pd.read_csv(movies_csv)\n",
    "df_rating = pd.read_csv(ratings_csv)\n",
    "df_link = pd.read_csv(links_csv)\n",
    "#df_tag = pd.read_csv(tags_csv)"
   ]
  },
  {
   "cell_type": "code",
   "execution_count": 7,
   "metadata": {},
   "outputs": [
    {
     "data": {
      "text/html": [
       "<div>\n",
       "<style scoped>\n",
       "    .dataframe tbody tr th:only-of-type {\n",
       "        vertical-align: middle;\n",
       "    }\n",
       "\n",
       "    .dataframe tbody tr th {\n",
       "        vertical-align: top;\n",
       "    }\n",
       "\n",
       "    .dataframe thead th {\n",
       "        text-align: right;\n",
       "    }\n",
       "</style>\n",
       "<table border=\"1\" class=\"dataframe\">\n",
       "  <thead>\n",
       "    <tr style=\"text-align: right;\">\n",
       "      <th></th>\n",
       "      <th>movieId</th>\n",
       "      <th>title</th>\n",
       "      <th>genres</th>\n",
       "    </tr>\n",
       "  </thead>\n",
       "  <tbody>\n",
       "    <tr>\n",
       "      <th>0</th>\n",
       "      <td>1</td>\n",
       "      <td>Toy Story (1995)</td>\n",
       "      <td>Adventure|Animation|Children|Comedy|Fantasy</td>\n",
       "    </tr>\n",
       "    <tr>\n",
       "      <th>1</th>\n",
       "      <td>2</td>\n",
       "      <td>Jumanji (1995)</td>\n",
       "      <td>Adventure|Children|Fantasy</td>\n",
       "    </tr>\n",
       "    <tr>\n",
       "      <th>2</th>\n",
       "      <td>3</td>\n",
       "      <td>Grumpier Old Men (1995)</td>\n",
       "      <td>Comedy|Romance</td>\n",
       "    </tr>\n",
       "    <tr>\n",
       "      <th>3</th>\n",
       "      <td>4</td>\n",
       "      <td>Waiting to Exhale (1995)</td>\n",
       "      <td>Comedy|Drama|Romance</td>\n",
       "    </tr>\n",
       "    <tr>\n",
       "      <th>4</th>\n",
       "      <td>5</td>\n",
       "      <td>Father of the Bride Part II (1995)</td>\n",
       "      <td>Comedy</td>\n",
       "    </tr>\n",
       "  </tbody>\n",
       "</table>\n",
       "</div>"
      ],
      "text/plain": [
       "   movieId                               title  \\\n",
       "0        1                    Toy Story (1995)   \n",
       "1        2                      Jumanji (1995)   \n",
       "2        3             Grumpier Old Men (1995)   \n",
       "3        4            Waiting to Exhale (1995)   \n",
       "4        5  Father of the Bride Part II (1995)   \n",
       "\n",
       "                                        genres  \n",
       "0  Adventure|Animation|Children|Comedy|Fantasy  \n",
       "1                   Adventure|Children|Fantasy  \n",
       "2                               Comedy|Romance  \n",
       "3                         Comedy|Drama|Romance  \n",
       "4                                       Comedy  "
      ]
     },
     "execution_count": 7,
     "metadata": {},
     "output_type": "execute_result"
    }
   ],
   "source": [
    "df_movie.head(5)"
   ]
  },
  {
   "cell_type": "code",
   "execution_count": 8,
   "metadata": {},
   "outputs": [
    {
     "data": {
      "text/html": [
       "<div>\n",
       "<style scoped>\n",
       "    .dataframe tbody tr th:only-of-type {\n",
       "        vertical-align: middle;\n",
       "    }\n",
       "\n",
       "    .dataframe tbody tr th {\n",
       "        vertical-align: top;\n",
       "    }\n",
       "\n",
       "    .dataframe thead th {\n",
       "        text-align: right;\n",
       "    }\n",
       "</style>\n",
       "<table border=\"1\" class=\"dataframe\">\n",
       "  <thead>\n",
       "    <tr style=\"text-align: right;\">\n",
       "      <th></th>\n",
       "      <th>userId</th>\n",
       "      <th>movieId</th>\n",
       "      <th>rating</th>\n",
       "      <th>timestamp</th>\n",
       "    </tr>\n",
       "  </thead>\n",
       "  <tbody>\n",
       "    <tr>\n",
       "      <th>0</th>\n",
       "      <td>1</td>\n",
       "      <td>31</td>\n",
       "      <td>2.5</td>\n",
       "      <td>1260759144</td>\n",
       "    </tr>\n",
       "    <tr>\n",
       "      <th>1</th>\n",
       "      <td>1</td>\n",
       "      <td>1029</td>\n",
       "      <td>3.0</td>\n",
       "      <td>1260759179</td>\n",
       "    </tr>\n",
       "    <tr>\n",
       "      <th>2</th>\n",
       "      <td>1</td>\n",
       "      <td>1061</td>\n",
       "      <td>3.0</td>\n",
       "      <td>1260759182</td>\n",
       "    </tr>\n",
       "    <tr>\n",
       "      <th>3</th>\n",
       "      <td>1</td>\n",
       "      <td>1129</td>\n",
       "      <td>2.0</td>\n",
       "      <td>1260759185</td>\n",
       "    </tr>\n",
       "    <tr>\n",
       "      <th>4</th>\n",
       "      <td>1</td>\n",
       "      <td>1172</td>\n",
       "      <td>4.0</td>\n",
       "      <td>1260759205</td>\n",
       "    </tr>\n",
       "  </tbody>\n",
       "</table>\n",
       "</div>"
      ],
      "text/plain": [
       "   userId  movieId  rating   timestamp\n",
       "0       1       31     2.5  1260759144\n",
       "1       1     1029     3.0  1260759179\n",
       "2       1     1061     3.0  1260759182\n",
       "3       1     1129     2.0  1260759185\n",
       "4       1     1172     4.0  1260759205"
      ]
     },
     "execution_count": 8,
     "metadata": {},
     "output_type": "execute_result"
    }
   ],
   "source": [
    "df_rating.head(5)"
   ]
  },
  {
   "cell_type": "markdown",
   "metadata": {},
   "source": [
    "# Prepare the dataset for training"
   ]
  },
  {
   "cell_type": "code",
   "execution_count": 10,
   "metadata": {},
   "outputs": [],
   "source": [
    "from UTILS.CFData import CFData\n",
    "from UTILS.CFModel import CFModel\n",
    "from surprise import SVD\n",
    "\n",
    "from IPython.display import display, HTML, Image"
   ]
  },
  {
   "cell_type": "code",
   "execution_count": 11,
   "metadata": {},
   "outputs": [],
   "source": [
    "# Load rating datat to CFData class\n",
    "df_data = df_rating[['userId','movieId', 'rating',]]\n",
    "df_data = df_data.rename(index=str, columns={'userId': 'userID', 'movieId': 'itemID', 'rating': 'rating'})\n",
    "df_id_name_table = df_movie[['movieId', 'title']]\n",
    "df_id_name_table = df_id_name_table.rename(index=str, columns={'movieId':'itemID', 'title':'itemName'})\n",
    "data_movie = CFData(df_data, None, df_id_name_table, (0.5, 5))"
   ]
  },
  {
   "cell_type": "markdown",
   "metadata": {},
   "source": [
    "# Model-based collaborative filtering by Funk-SVD"
   ]
  },
  {
   "cell_type": "code",
   "execution_count": 12,
   "metadata": {},
   "outputs": [],
   "source": [
    "model_svd = CFModel(SVD, lr_all=0.005, reg_all=0.4, n_epochs=30)\n",
    "model_svd.fit(data_movie.trainset)\n",
    "test_ratio = None"
   ]
  },
  {
   "cell_type": "markdown",
   "metadata": {},
   "source": [
    "### Utility function"
   ]
  },
  {
   "cell_type": "code",
   "execution_count": 13,
   "metadata": {},
   "outputs": [],
   "source": [
    "from UTILS.TMDBPoster import TMDBPoster\n",
    "class ShowRecommendedMovies:\n",
    "    @classmethod\n",
    "    def get_image_from_url_list(self, images, header=None, width=\"100%\"): \n",
    "        \"\"\"\n",
    "        Read in a list of image sources and display images in html format\n",
    "        :param images: List. list of image src strings\n",
    "        :param header: String. To place head on images\n",
    "        :param width: Str. Display width\n",
    "        :return: None. Only diplay text and images\n",
    "         \"\"\"\n",
    "    # Input: images: list of image rource\n",
    "    # Output: None. Only displace images\n",
    "        if type(width)==type(1): width = \"{}px\".format(width)\n",
    "        html = [\"<table style='width:{}'><tr>\".format(width)]\n",
    "        if header is not None:\n",
    "            html += [\"<th>{}</th>\".format(h) for h in header] + [\"</tr><tr>\"]\n",
    "\n",
    "        for image in images:\n",
    "            html.append(\"<td><img src='{}' /></td>\".format(image))\n",
    "        html.append(\"</tr></table>\")\n",
    "        display(HTML(''.join(html)))\n",
    "    @classmethod\n",
    "    def show_recommended_movies(self, movie_name, cf_data_movie, cf_model, k): \n",
    "        \"\"\"\n",
    "        Read in a movie name. Use the CFData data and trained CFModel to show top-k recommended movie posters\n",
    "        TMDB poster images will be requested via TMDB API\n",
    "        :param movie_name: Str. Input movie name\n",
    "        :param cf_data_movie: CFData. Movie data the model is trained on. Used to do movie name and id conversion\n",
    "        :param cf_model: CFModel. Trained model. Used to output top-k similar movies\n",
    "        :param k: Recommend k movies\n",
    "        :return: None. Only diplay text and images\n",
    "         \"\"\"\n",
    "        # Convert user-selected movie name to movie id then obtain the top-k similar movies\n",
    "        movie_item_id = cf_data_movie.convert_name_to_id(movie_name)\n",
    "        #movie_neighbor_name = [cf_data_movie.convert_id_to_name(i) for i in cf_model.get_similar_item(movie_item_id, k)]\n",
    "        movie_neighbor_name = [cf_data_movie.convert_id_to_name(i) for i in cf_model.get_similar_item(movie_item_id, k)]\n",
    "        movie_neighbor_id = [cf_data_movie.convert_name_to_id(i) for i in movie_neighbor_name]\n",
    "    \n",
    "        # Request the hyperlinks of movie poster from TMDB\n",
    "        get_poster = TMDBPoster()\n",
    "        input_movie_imdb_id = int(df_link[df_link['movieId']==movie_item_id].iloc[0]['imdbId']) \n",
    "        input_poster_url = get_poster.get_poster_urls('tt{:07}'.format(input_movie_imdb_id))[0]\n",
    "    \n",
    "        # Output the top-k recommended movieds\n",
    "        print \"Movie you select is '%s'\"%(movie_name)\n",
    "        self.get_image_from_url_list([input_poster_url], header='', width=\"10%\" )\n",
    "    \n",
    "        # convert ml movie id to imdb movie id and request movie poster images from TMDB\n",
    "        movie_neighbor_imdb_id = [int(df_link[df_link['movieId']==i].iloc[0]['imdbId']) for i in movie_neighbor_id]\n",
    "        poster_urls = [get_poster.get_poster_urls('tt{:07}'.format(i))[0] for i in movie_neighbor_imdb_id]\n",
    "        print \"Based on '%s', we recommend %d movies below:\"%(movie_name, k)\n",
    "        #print movie_neighbor_name\n",
    "        self.get_image_from_url_list(poster_urls)\n",
    "        #self.get_image_from_url_list(poster_urls[0:k//2])\n",
    "        #self.get_image_from_url_list(poster_urls[k//2:])\n",
    "\n",
    "def get_most_rated_movie(df_movie_in, df_rating_in, n_output):\n",
    "    movie_list_tmp1 = pd.merge(df_movie, df_rating, on='movieId', how='inner').groupby('title').count()   \n",
    "    movie_list_top_k = movie_list_tmp1['rating'].sort_values(ascending=False).index[:n_output]\n",
    "    return movie_list_top_k"
   ]
  },
  {
   "cell_type": "markdown",
   "metadata": {},
   "source": [
    "# Movie recommendation based on user-selected movie"
   ]
  },
  {
   "cell_type": "code",
   "execution_count": 24,
   "metadata": {},
   "outputs": [
    {
     "name": "stdout",
     "output_type": "stream",
     "text": [
      "Please select a movie and let us recommend top 10 movies to you.\n"
     ]
    },
    {
     "data": {
      "application/vnd.jupyter.widget-view+json": {
       "model_id": "08fa3bbc18024bc58767afc9326d7578",
       "version_major": 2,
       "version_minor": 0
      },
      "text/plain": [
       "VkJveChjaGlsZHJlbj0oRHJvcGRvd24oZGVzY3JpcHRpb249dSdNb3ZpZTonLCBvcHRpb25zPSgnRm9ycmVzdCBHdW1wICgxOTk0KScsICdQdWxwIEZpY3Rpb24gKDE5OTQpJywgJ1NoYXdzaGHigKY=\n"
      ]
     },
     "metadata": {},
     "output_type": "display_data"
    },
    {
     "data": {
      "application/javascript": [
       "IPython.notebook.execute_cell_range(IPython.notebook.get_selected_index()+1,                       IPython.notebook.get_selected_index()+2)"
      ],
      "text/plain": [
       "<IPython.core.display.Javascript object>"
      ]
     },
     "metadata": {},
     "output_type": "display_data"
    },
    {
     "data": {
      "application/javascript": [
       "IPython.notebook.execute_cell_range(IPython.notebook.get_selected_index()+1,                       IPython.notebook.get_selected_index()+2)"
      ],
      "text/plain": [
       "<IPython.core.display.Javascript object>"
      ]
     },
     "metadata": {},
     "output_type": "display_data"
    },
    {
     "data": {
      "application/javascript": [
       "IPython.notebook.execute_cell_range(IPython.notebook.get_selected_index()+1,                       IPython.notebook.get_selected_index()+2)"
      ],
      "text/plain": [
       "<IPython.core.display.Javascript object>"
      ]
     },
     "metadata": {},
     "output_type": "display_data"
    },
    {
     "data": {
      "application/javascript": [
       "IPython.notebook.execute_cell_range(IPython.notebook.get_selected_index()+1,                       IPython.notebook.get_selected_index()+2)"
      ],
      "text/plain": [
       "<IPython.core.display.Javascript object>"
      ]
     },
     "metadata": {},
     "output_type": "display_data"
    }
   ],
   "source": [
    "import ipywidgets as widgets\n",
    "from IPython.display import Javascript, display\n",
    "# Create a top-50 most rated movie list\n",
    "movie_list_top_50 = get_most_rated_movie(df_movie, df_rating, 50)\n",
    "\n",
    "print \"Please select a movie and let us recommend top 10 movies to you.\"\n",
    "selected_movie_name = widgets.Dropdown(options=movie_list_top_50, value='Forrest Gump (1994)', description='Movie:')\n",
    "def run_next_cell(ev):\n",
    "    display(Javascript('IPython.notebook.execute_cell_range(IPython.notebook.get_selected_index()+1, \\\n",
    "                      IPython.notebook.get_selected_index()+2)'))\n",
    "\n",
    "button = widgets.Button(description=\"Top-10 movies for you\")\n",
    "button.on_click(run_next_cell)\n",
    "widgets.VBox([selected_movie_name, button])"
   ]
  },
  {
   "cell_type": "code",
   "execution_count": 28,
   "metadata": {},
   "outputs": [
    {
     "name": "stdout",
     "output_type": "stream",
     "text": [
      "Movie you select is 'Men in Black (a.k.a. MIB) (1997)'\n"
     ]
    },
    {
     "data": {
      "text/html": [
       "<table style='width:10%'><tr></tr><tr><td><img src='http://image.tmdb.org/t/p/original/f24UVKq3UiQWLqGWdqjwkzgB8j8.jpg' /></td></tr></table>"
      ],
      "text/plain": [
       "<IPython.core.display.HTML object>"
      ]
     },
     "metadata": {},
     "output_type": "display_data"
    },
    {
     "name": "stdout",
     "output_type": "stream",
     "text": [
      "Based on 'Men in Black (a.k.a. MIB) (1997)', we recommend 10 movies below:\n"
     ]
    },
    {
     "data": {
      "text/html": [
       "<table style='width:100%'><tr><td><img src='http://image.tmdb.org/t/p/original/7wkIYI2r0ICajBcCW0JlIT3zSwc.jpg' /></td><td><img src='http://image.tmdb.org/t/p/original/8NR3LNc6vZtyEYpLMdDztwOr5sp.jpg' /></td><td><img src='http://image.tmdb.org/t/p/original/7QbJa6syM4ZYxtey0d7qB7bmhzb.jpg' /></td><td><img src='http://image.tmdb.org/t/p/original/zNPStfi8CLBycc4POM8A9GbO7eA.jpg' /></td><td><img src='http://image.tmdb.org/t/p/original/2wZtSH9oSuhkdvG79dClQZVvctR.jpg' /></td><td><img src='http://image.tmdb.org/t/p/original/1G9r3rqtbFAQuyWKOZm4Y5J5s7Q.jpg' /></td><td><img src='http://image.tmdb.org/t/p/original/9DtMXtcSQtLY9ApMtWah36SxKHg.jpg' /></td><td><img src='http://image.tmdb.org/t/p/original/5oYL4YS8WHjhodRLn4b8BRZ3YHh.jpg' /></td><td><img src='http://image.tmdb.org/t/p/original/pQesAe0yl5SIV7YHWXI8RKRICUh.jpg' /></td><td><img src='http://image.tmdb.org/t/p/original/ybcKcM6NVhKZEzwuyLkpQPd3twH.jpg' /></td></tr></table>"
      ],
      "text/plain": [
       "<IPython.core.display.HTML object>"
      ]
     },
     "metadata": {},
     "output_type": "display_data"
    }
   ],
   "source": [
    "# Obtain input movie and k of 'top-k'\n",
    "movie_name = selected_movie_name.value\n",
    "ShowRecommendedMovies.show_recommended_movies(movie_name, data_movie, model_svd,  k=10)  "
   ]
  },
  {
   "cell_type": "code",
   "execution_count": null,
   "metadata": {},
   "outputs": [],
   "source": []
  }
 ],
 "metadata": {
  "kernelspec": {
   "display_name": "Python 2",
   "language": "python",
   "name": "python2"
  },
  "language_info": {
   "codemirror_mode": {
    "name": "ipython",
    "version": 2
   },
   "file_extension": ".py",
   "mimetype": "text/x-python",
   "name": "python",
   "nbconvert_exporter": "python",
   "pygments_lexer": "ipython2",
   "version": "2.7.15"
  }
 },
 "nbformat": 4,
 "nbformat_minor": 2
}
