{
 "cells": [
  {
   "cell_type": "markdown",
   "metadata": {},
   "source": [
    "# Build your own movie recommender system\n",
    "Dataset: https://grouplens.org/datasets/movielens/"
   ]
  },
  {
   "cell_type": "code",
   "execution_count": 8,
   "metadata": {},
   "outputs": [],
   "source": [
    "import numpy as np\n",
    "import pandas as pd\n",
    "import ipywidgets as widgets\n",
    "from IPython.display import Javascript, display\n",
    "from surprise import SVD\n",
    "\n",
    "from CFRecommenderSystem.CFMovieSystem import CFMovieSystem\n",
    "from CFRecommenderSystem.CFData import CFData\n",
    "from CFRecommenderSystem.CFModel import CFModel\n",
    "\n",
    "dir_path = './data/ml-latest-small/'\n",
    "movies_csv = dir_path + 'movies.csv'\n",
    "ratings_csv = dir_path + 'ratings.csv'\n",
    "links_csv = dir_path + 'links.csv'\n",
    "#tags_csv = dir_path + 'tags.csv'\n",
    "\n",
    "df_movie = pd.read_csv(movies_csv)\n",
    "df_rating = pd.read_csv(ratings_csv)\n",
    "df_link = pd.read_csv(links_csv)\n",
    "#df_tag = pd.read_csv(tags_csv)\n",
    "\n",
    "my_tmdb_key = ''"
   ]
  },
  {
   "cell_type": "code",
   "execution_count": 2,
   "metadata": {},
   "outputs": [
    {
     "data": {
      "text/html": [
       "<div>\n",
       "<style scoped>\n",
       "    .dataframe tbody tr th:only-of-type {\n",
       "        vertical-align: middle;\n",
       "    }\n",
       "\n",
       "    .dataframe tbody tr th {\n",
       "        vertical-align: top;\n",
       "    }\n",
       "\n",
       "    .dataframe thead th {\n",
       "        text-align: right;\n",
       "    }\n",
       "</style>\n",
       "<table border=\"1\" class=\"dataframe\">\n",
       "  <thead>\n",
       "    <tr style=\"text-align: right;\">\n",
       "      <th></th>\n",
       "      <th>movieId</th>\n",
       "      <th>title</th>\n",
       "      <th>genres</th>\n",
       "    </tr>\n",
       "  </thead>\n",
       "  <tbody>\n",
       "    <tr>\n",
       "      <th>0</th>\n",
       "      <td>1</td>\n",
       "      <td>Toy Story (1995)</td>\n",
       "      <td>Adventure|Animation|Children|Comedy|Fantasy</td>\n",
       "    </tr>\n",
       "    <tr>\n",
       "      <th>1</th>\n",
       "      <td>2</td>\n",
       "      <td>Jumanji (1995)</td>\n",
       "      <td>Adventure|Children|Fantasy</td>\n",
       "    </tr>\n",
       "    <tr>\n",
       "      <th>2</th>\n",
       "      <td>3</td>\n",
       "      <td>Grumpier Old Men (1995)</td>\n",
       "      <td>Comedy|Romance</td>\n",
       "    </tr>\n",
       "  </tbody>\n",
       "</table>\n",
       "</div>"
      ],
      "text/plain": [
       "   movieId                    title  \\\n",
       "0        1         Toy Story (1995)   \n",
       "1        2           Jumanji (1995)   \n",
       "2        3  Grumpier Old Men (1995)   \n",
       "\n",
       "                                        genres  \n",
       "0  Adventure|Animation|Children|Comedy|Fantasy  \n",
       "1                   Adventure|Children|Fantasy  \n",
       "2                               Comedy|Romance  "
      ]
     },
     "execution_count": 2,
     "metadata": {},
     "output_type": "execute_result"
    }
   ],
   "source": [
    "df_movie.head(3)"
   ]
  },
  {
   "cell_type": "code",
   "execution_count": 3,
   "metadata": {},
   "outputs": [
    {
     "data": {
      "text/html": [
       "<div>\n",
       "<style scoped>\n",
       "    .dataframe tbody tr th:only-of-type {\n",
       "        vertical-align: middle;\n",
       "    }\n",
       "\n",
       "    .dataframe tbody tr th {\n",
       "        vertical-align: top;\n",
       "    }\n",
       "\n",
       "    .dataframe thead th {\n",
       "        text-align: right;\n",
       "    }\n",
       "</style>\n",
       "<table border=\"1\" class=\"dataframe\">\n",
       "  <thead>\n",
       "    <tr style=\"text-align: right;\">\n",
       "      <th></th>\n",
       "      <th>userId</th>\n",
       "      <th>movieId</th>\n",
       "      <th>rating</th>\n",
       "      <th>timestamp</th>\n",
       "    </tr>\n",
       "  </thead>\n",
       "  <tbody>\n",
       "    <tr>\n",
       "      <th>0</th>\n",
       "      <td>1</td>\n",
       "      <td>31</td>\n",
       "      <td>2.5</td>\n",
       "      <td>1260759144</td>\n",
       "    </tr>\n",
       "    <tr>\n",
       "      <th>1</th>\n",
       "      <td>1</td>\n",
       "      <td>1029</td>\n",
       "      <td>3.0</td>\n",
       "      <td>1260759179</td>\n",
       "    </tr>\n",
       "    <tr>\n",
       "      <th>2</th>\n",
       "      <td>1</td>\n",
       "      <td>1061</td>\n",
       "      <td>3.0</td>\n",
       "      <td>1260759182</td>\n",
       "    </tr>\n",
       "  </tbody>\n",
       "</table>\n",
       "</div>"
      ],
      "text/plain": [
       "   userId  movieId  rating   timestamp\n",
       "0       1       31     2.5  1260759144\n",
       "1       1     1029     3.0  1260759179\n",
       "2       1     1061     3.0  1260759182"
      ]
     },
     "execution_count": 3,
     "metadata": {},
     "output_type": "execute_result"
    }
   ],
   "source": [
    "df_rating.head(3)"
   ]
  },
  {
   "cell_type": "markdown",
   "metadata": {},
   "source": [
    "# Prepare the dataset for training"
   ]
  },
  {
   "cell_type": "code",
   "execution_count": 4,
   "metadata": {},
   "outputs": [],
   "source": [
    "# Load rating datat to CFData class\n",
    "df_data = df_rating[['userId','movieId', 'rating',]]\n",
    "df_data = df_data.rename(index=str, columns={'userId': 'userID', 'movieId': 'itemID', 'rating': 'rating'})\n",
    "df_id_name_table = df_movie[['movieId', 'title']]\n",
    "df_id_name_table = df_id_name_table.rename(index=str, columns={'movieId':'itemID', 'title':'itemName'})"
   ]
  },
  {
   "cell_type": "markdown",
   "metadata": {},
   "source": [
    "# Model training for collaborative filtering by Funk-SVD"
   ]
  },
  {
   "cell_type": "code",
   "execution_count": 5,
   "metadata": {},
   "outputs": [],
   "source": [
    "# Create CFData instance\n",
    "data_movie = CFData(df_data, test_ratio=None, df_id_name_table=df_id_name_table, rating_scale=(0.5, 5))\n",
    "# Create CFModel instanc\n",
    "model_svd = CFModel(SVD, lr_all=0.005, reg_all=0.4, n_epochs=30)\n",
    "model_svd.fit(data_movie.trainset)\n",
    "# Create CFDMovieSystem instance\n",
    "cf_movie_sys = CFMovieSystem(data_movie, model_svd)"
   ]
  },
  {
   "cell_type": "markdown",
   "metadata": {},
   "source": [
    "# Movie recommendation based on user-selected movie"
   ]
  },
  {
   "cell_type": "code",
   "execution_count": 6,
   "metadata": {},
   "outputs": [
    {
     "data": {
      "application/vnd.jupyter.widget-view+json": {
       "model_id": "0402134259094905ba007a5c7f4c5310",
       "version_major": 2,
       "version_minor": 0
      },
      "text/plain": [
       "VkJveChjaGlsZHJlbj0oRHJvcGRvd24oZGVzY3JpcHRpb249dSdTZWxlY3QgYSBvdmllOicsIG9wdGlvbnM9KCdGb3JyZXN0IEd1bXAgKDE5OTQpJywgJ1B1bHAgRmljdGlvbiAoMTk5NCknLCDigKY=\n"
      ]
     },
     "metadata": {},
     "output_type": "display_data"
    }
   ],
   "source": [
    "def get_most_rated_movie(df_movie_in, df_rating_in, n_output):\n",
    "    movie_list_tmp1 = pd.merge(df_movie, df_rating, on='movieId', how='inner').groupby('title').count()   \n",
    "    movie_list_top_k = movie_list_tmp1['rating'].sort_values(ascending=False).index[:n_output]\n",
    "    return movie_list_top_k\n",
    "def run_next_cell(ev):\n",
    "    display(Javascript('IPython.notebook.execute_cell_range(IPython.notebook.get_selected_index()+1, \\\n",
    "                      IPython.notebook.get_selected_index()+2)'))\n",
    "\n",
    "# Create a top-50 most rated movie list in drop-down\n",
    "movie_list_top_50 = get_most_rated_movie(df_movie, df_rating, 50)\n",
    "selected_movie_name = widgets.Dropdown(options=movie_list_top_50, value='Forrest Gump (1994)', \n",
    "                                       description='Select a ovie:')\n",
    "button = widgets.Button(description=\"Top-10 movies recommended to you\", layout=widgets.Layout(width='40%', height='40px'))\n",
    "button.on_click(run_next_cell)\n",
    "widgets.VBox([selected_movie_name, button])"
   ]
  },
  {
   "cell_type": "code",
   "execution_count": 7,
   "metadata": {},
   "outputs": [
    {
     "name": "stdout",
     "output_type": "stream",
     "text": [
      "Movie you select is 'Forrest Gump (1994)'\n"
     ]
    },
    {
     "data": {
      "text/html": [
       "<table style='width:10%'><tr></tr><tr><td><img src='http://image.tmdb.org/t/p/original/z4ROnCrL77ZMzT0MsNXY5j25wS2.jpg' /></td></tr></table>"
      ],
      "text/plain": [
       "<IPython.core.display.HTML object>"
      ]
     },
     "metadata": {},
     "output_type": "display_data"
    },
    {
     "name": "stdout",
     "output_type": "stream",
     "text": [
      "Based on 'Forrest Gump (1994)', we recommend 10 movies below:\n"
     ]
    },
    {
     "data": {
      "text/html": [
       "<table style='width:100%'><tr><td><img src='http://image.tmdb.org/t/p/original/uzMI1WbliKbXbjvdiDKnwb2ndsG.jpg' /></td><td><img src='http://image.tmdb.org/t/p/original/rS3OREsfx5jVnI3eyT7eGtP4u3l.jpg' /></td><td><img src='http://image.tmdb.org/t/p/original/AfHjGkg3g9yTLhYtls8fSUuOKNt.jpg' /></td><td><img src='http://image.tmdb.org/t/p/original/7OKJFPzvGfLLounKpBaoISlgv4p.jpg' /></td><td><img src='http://image.tmdb.org/t/p/original/mc7MubOLcIw3MDvnuQFrO9psfCa.jpg' /></td><td><img src='http://image.tmdb.org/t/p/original/2HvwFjibCcicXfRbKVr2i4u6xot.jpg' /></td><td><img src='http://image.tmdb.org/t/p/original/wHkgkGSfxbwz7xCkoAvaMviKLmD.jpg' /></td><td><img src='http://image.tmdb.org/t/p/original/hRviyh7ky1IJ0yusr8ZJ73DNT0Q.jpg' /></td><td><img src='http://image.tmdb.org/t/p/original/fQarG0ddQM5XddKz0BXd7qTGK9j.jpg' /></td><td><img src='http://image.tmdb.org/t/p/original/un1j6SEvHHN12qamyRlB6AaxXi9.jpg' /></td></tr></table>"
      ],
      "text/plain": [
       "<IPython.core.display.HTML object>"
      ]
     },
     "metadata": {},
     "output_type": "display_data"
    },
    {
     "name": "stdout",
     "output_type": "stream",
     "text": [
      "['Dances with Wolves (1990)', 'Darfur Now (2007)', 'Lifeboat (1944)', 'Summer Lovers (1982)', 'Die Hard (1988)', 'In the Mouth of Madness (1995)', 'Jungle Book (1942)', 'Client, The (1994)', 'No One Lives (2012)', 'Picture of Dorian Gray, The (1945)']\n"
     ]
    }
   ],
   "source": [
    "# Obtain input movie name\n",
    "movie_name = selected_movie_name.value\n",
    "if my_tmdb_key:\n",
    "    # Show poster recommendation if my_tmdb_key is present\n",
    "    cf_movie_sys.show_recommended_movies(movie_name, k=10, tmdb_key=my_tmdb_key, df_ml_imdb_id=df_link)\n",
    "else:\n",
    "    # Show text-only recommendation \n",
    "    cf_movie_sys.show_recommended_movies(movie_name, k=10)"
   ]
  }
 ],
 "metadata": {
  "kernelspec": {
   "display_name": "Python 2",
   "language": "python",
   "name": "python2"
  },
  "language_info": {
   "codemirror_mode": {
    "name": "ipython",
    "version": 2
   },
   "file_extension": ".py",
   "mimetype": "text/x-python",
   "name": "python",
   "nbconvert_exporter": "python",
   "pygments_lexer": "ipython2",
   "version": "2.7.15"
  }
 },
 "nbformat": 4,
 "nbformat_minor": 2
}
